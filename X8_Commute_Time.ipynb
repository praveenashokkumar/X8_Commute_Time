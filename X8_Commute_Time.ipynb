{
 "cells": [
  {
   "cell_type": "code",
   "execution_count": 1,
   "metadata": {},
   "outputs": [
    {
     "name": "stdout",
     "output_type": "stream",
     "text": [
      "Populating the interactive namespace from numpy and matplotlib\n"
     ]
    }
   ],
   "source": [
    "# Program to study how the new bus route for X8 is improving commute times?\n",
    "from __future__  import print_function, division\n",
    "import pylab as pl\n",
    "import pandas as pd\n",
    "import numpy as np\n",
    "import os\n",
    "import json\n",
    "\n",
    "%pylab inline"
   ]
  },
  {
   "cell_type": "code",
   "execution_count": 2,
   "metadata": {},
   "outputs": [
    {
     "name": "stderr",
     "output_type": "stream",
     "text": [
      "  % Total    % Received % Xferd  Average Speed   Time    Time     Time  Current\n",
      "                                 Dload  Upload   Total   Spent    Left  Speed\n",
      "\n",
      "  0     0    0     0    0     0      0      0 --:--:-- --:--:-- --:--:--     0\n",
      "100  1179  100  1179    0     0   3284      0 --:--:-- --:--:-- --:--:--  3284\n"
     ]
    }
   ],
   "source": [
    "# Downloading file from source\n",
    "!curl -O https://raw.githubusercontent.com/fedhere/PUI2017_fb55/master/Lab3_fb55/times.txt\n"
   ]
  },
  {
   "cell_type": "code",
   "execution_count": 3,
   "metadata": {},
   "outputs": [],
   "source": [
    "data = pd.read_table(\"times.txt\", header=None)\n"
   ]
  },
  {
   "cell_type": "code",
   "execution_count": 4,
   "metadata": {},
   "outputs": [],
   "source": [
    "oldMean = 36\n",
    "newMean = data.mean()\n",
    "oldStd = 6\n",
    "newStd = data.std()"
   ]
  },
  {
   "cell_type": "markdown",
   "metadata": {
    "scrolled": true
   },
   "source": [
    "# Problem Statement: How is the new bus route for X8 improving commute times?\n",
    "\n",
    "## Alternate Hypothesis: The Average commute time for the new bus route X8 is lesser than the average commute time for the old commute route of X8.\n",
    "    \n",
    "   ### Ha: newMean - oldMean < 0\n",
    "    \n",
    "   ## Null Hypothesis: The Average Commute time for the new route is the same or longer than the old route.\n",
    "    \n",
    "   ### H0: newMean - oldMean >= 0\n",
    "    \n",
    "   ### Let us define the value of significance level α = 0.5 (5%)\n",
    "    \n",
    "   ### So the Confidence Level would be 1-α = 95%\n",
    "    \n",
    "   ### Z = \\frac{\\mu_{pop} - \\mu_{sample}}{\\sigma / \\sqrt{N}}\n",
    "   \n",
    "   ### z = (oldMean - newMean)/(oldStd/np.sqrt(len(data)))\n",
    "    \n",
    "    "
   ]
  },
  {
   "cell_type": "code",
   "execution_count": 5,
   "metadata": {},
   "outputs": [
    {
     "name": "stdout",
     "output_type": "stream",
     "text": [
      "0    2.556397\n",
      "dtype: float64\n"
     ]
    }
   ],
   "source": [
    "z = (oldMean - newMean)/(oldStd/np.sqrt(len(data)))\n",
    "print (z)"
   ]
  },
  {
   "cell_type": "markdown",
   "metadata": {},
   "source": [
    "\n",
    "### If the value of p(Ha)-p(H0) > α\n",
    "\n",
    "### The Null Hypothesis can be rejected. In this case,\n",
    "\n",
    "\n",
    "### p(Ha)-p(H0) = 2.556397 - 2 (For 2 Std, Deviations Considered) = 0.556397\n",
    "\n",
    "### This value is greater than α\n",
    "\n",
    "### Therefore,\n",
    "\n",
    "### Since the value of Z>2 which is more than 2 Standard deviations above New Mean,\n",
    "\n",
    "### The Null Hypothesis Can be rejected\n"
   ]
  }
 ],
 "metadata": {
  "kernelspec": {
   "display_name": "Python 3",
   "language": "python",
   "name": "python3"
  },
  "language_info": {
   "codemirror_mode": {
    "name": "ipython",
    "version": 3
   },
   "file_extension": ".py",
   "mimetype": "text/x-python",
   "name": "python",
   "nbconvert_exporter": "python",
   "pygments_lexer": "ipython3",
   "version": "3.6.4"
  }
 },
 "nbformat": 4,
 "nbformat_minor": 1
}
